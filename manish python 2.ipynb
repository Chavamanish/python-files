{
 "cells": [
  {
   "cell_type": "code",
   "execution_count": 1,
   "metadata": {},
   "outputs": [
    {
     "name": "stdout",
     "output_type": "stream",
     "text": [
      "[1, 8, 16, 9, 2]\n",
      "1\n",
      "8\n",
      "2\n",
      "9\n",
      "[8, 16, 9, 2]\n",
      "[8, 16, 9]\n"
     ]
    }
   ],
   "source": [
    "lst=[1,8,16,9,2]\n",
    "print(lst)\n",
    "print(lst[0])\n",
    "print(lst[1])\n",
    "print(lst[-1])\n",
    "print(lst[-2])\n",
    "print(lst[1:])\n",
    "print(lst[1:4])"
   ]
  },
  {
   "cell_type": "code",
   "execution_count": 6,
   "metadata": {},
   "outputs": [
    {
     "name": "stdout",
     "output_type": "stream",
     "text": [
      "['gitam', 'python', 1989, 2002]\n",
      "['gitam', 'python', 2019, 2002]\n"
     ]
    }
   ],
   "source": [
    "li=[\"gitam\",\"python\",1989,2002]\n",
    "print(li)\n",
    "li[2]=2019\n",
    "print(li)"
   ]
  },
  {
   "cell_type": "code",
   "execution_count": 4,
   "metadata": {},
   "outputs": [
    {
     "name": "stdout",
     "output_type": "stream",
     "text": [
      "5\n",
      "(1, 9, 6, 18, 2, 1, 9, 6, 18, 2)\n",
      "False\n",
      "True\n"
     ]
    }
   ],
   "source": [
    "lst1=(1,9,6,18,2)\n",
    "print(len(lst1))\n",
    "print(lst1*2)\n",
    "print(15 in lst1)\n",
    "print(9 in lst1)\n"
   ]
  },
  {
   "cell_type": "code",
   "execution_count": 2,
   "metadata": {},
   "outputs": [
    {
     "name": "stdout",
     "output_type": "stream",
     "text": [
      "1 9 19 22 "
     ]
    }
   ],
   "source": [
    "def linearsearch(li):\n",
    "    for i in range(len(li)):\n",
    "        if i==0 or i==len(li)-1:\n",
    "            print(li[i],end=\" \")\n",
    "        elif li[i-1]%2==0 and li[i+1]%2==0:\n",
    "            print(li[i],end=\" \")\n",
    "    return\n",
    "li=[1,6,9,4,16,19,22]\n",
    "linearsearch(li) "
   ]
  },
  {
   "cell_type": "code",
   "execution_count": 8,
   "metadata": {},
   "outputs": [
    {
     "ename": "SyntaxError",
     "evalue": "unexpected EOF while parsing (<ipython-input-8-7d3b6ca096cc>, line 9)",
     "output_type": "error",
     "traceback": [
      "\u001b[1;36m  File \u001b[1;32m\"<ipython-input-8-7d3b6ca096cc>\"\u001b[1;36m, line \u001b[1;32m9\u001b[0m\n\u001b[1;33m    countcharoccurances(\"python programming\",'p'\u001b[0m\n\u001b[1;37m                                                ^\u001b[0m\n\u001b[1;31mSyntaxError\u001b[0m\u001b[1;31m:\u001b[0m unexpected EOF while parsing\n"
     ]
    }
   ],
   "source": [
    "def countcharoccurances(s,c):\n",
    "    cnt=0\n",
    "    for ch in s:\n",
    "        if ch==c:\n",
    "           cnt +=1\n",
    "    return cnt\n",
    "def countcharoccurances1(s,c):\n",
    "    return s.count(c)\n",
    "countcharoccurances(\"python programming\",'p'"
   ]
  },
  {
   "cell_type": "code",
   "execution_count": 7,
   "metadata": {},
   "outputs": [
    {
     "data": {
      "text/plain": [
       "2"
      ]
     },
     "execution_count": 7,
     "metadata": {},
     "output_type": "execute_result"
    }
   ],
   "source": [
    "# function to count the occurances of a character in a \n",
    "# \"python programming\", p -> 2\n",
    "# \"python programming\", m -> 2\n",
    "def countcharoccurances(s,c):\n",
    "    cnt = 0\n",
    "    for ch in s:\n",
    "        if ch == c:\n",
    "            cnt += 1\n",
    "    return cnt\n",
    "countcharoccurances(\"python programming\",'m')"
   ]
  },
  {
   "cell_type": "code",
   "execution_count": 2,
   "metadata": {},
   "outputs": [
    {
     "data": {
      "text/plain": [
       "[1, 2, 3, 4, 5]"
      ]
     },
     "execution_count": 2,
     "metadata": {},
     "output_type": "execute_result"
    }
   ],
   "source": [
    "def strinttolistconversion(s):\n",
    "    li=s.split()\n",
    "    numberlist=[]\n",
    "    for i in li:\n",
    "        numberlist.append(int(i))\n",
    "    return numberlist\n",
    "s=\"1 2 3 4 5\"\n",
    "strinttolistconversion(s)"
   ]
  },
  {
   "cell_type": "code",
   "execution_count": 3,
   "metadata": {},
   "outputs": [
    {
     "data": {
      "text/plain": [
       "[1, 19, 6, 18, 3, 25]"
      ]
     },
     "execution_count": 3,
     "metadata": {},
     "output_type": "execute_result"
    }
   ],
   "source": [
    "def bubblesort(li):\n",
    "    for j in range(len(li)-1):\n",
    "        if li[j]>li[j+1]:\n",
    "            li[j],li[j+1]=li[j+1],li[j]\n",
    "    return li\n",
    "li=[19,1,25,6,18,3]\n",
    "bubblesort(li)"
   ]
  },
  {
   "cell_type": "code",
   "execution_count": 2,
   "metadata": {},
   "outputs": [
    {
     "name": "stdout",
     "output_type": "stream",
     "text": [
      "{'name': 'gitam', 'emailid': 'gitam@gmail.com', 'address': 'rudraram'}\n"
     ]
    }
   ],
   "source": [
    "d1={\"name\":\"gitam\",\"emailid\":\"gitam@gmail.com\",\"address\":\"rudraram\"}\n",
    "print(d1)"
   ]
  },
  {
   "cell_type": "code",
   "execution_count": 5,
   "metadata": {},
   "outputs": [
    {
     "data": {
      "text/plain": [
       "'gitam'"
      ]
     },
     "execution_count": 5,
     "metadata": {},
     "output_type": "execute_result"
    }
   ],
   "source": [
    "d1[\"name\"]"
   ]
  },
  {
   "cell_type": "markdown",
   "metadata": {},
   "source": [
    "### Tuples\n",
    "* t1 parenthesis() li square brackets[]\n",
    "* difference between list and tuples\n",
    "    -list are mutable  -can be changed/modified\n",
    "     -used to access modify,add,delete data\n",
    "    -Tuples are immutable-cannot be changed\n",
    "     -Used to access data only\n",
    "     "
   ]
  },
  {
   "cell_type": "code",
   "execution_count": 2,
   "metadata": {},
   "outputs": [
    {
     "name": "stdout",
     "output_type": "stream",
     "text": [
      "contact is details are added\n",
      "contact is details are added\n",
      "contact is details are added\n",
      "contact is details are added\n"
     ]
    }
   ],
   "source": [
    "# add contact \n",
    "contacts = {}\n",
    "def addcontact(name,phone):\n",
    "    if name not in contacts:\n",
    "        contacts[name] = phone\n",
    "        print(\"contact is details are added\")\n",
    "    else:\n",
    "        print(\"contact is  details are already exists\")\n",
    "    return\n",
    "addcontact('dj','9866424000')\n",
    "addcontact('akhil no.1','9704104018')\n",
    "addcontact('auto','9866663367')\n",
    "addcontact('jaggu','9866424000')\n"
   ]
  },
  {
   "cell_type": "code",
   "execution_count": 3,
   "metadata": {},
   "outputs": [
    {
     "name": "stdout",
     "output_type": "stream",
     "text": [
      "2 contacts added successfully\n"
     ]
    }
   ],
   "source": [
    "def importcontact(newcontacts):\n",
    "   contacts.update(newcontacts)\n",
    "   print(len(newcontacts.keys()),\"contacts added successfully\")\n",
    "   return\n",
    "newcontacts={'sreeram':9325565545,'aman':98476564834}\n",
    "importcontact(newcontacts)"
   ]
  },
  {
   "cell_type": "code",
   "execution_count": 1,
   "metadata": {},
   "outputs": [
    {
     "name": "stdout",
     "output_type": "stream",
     "text": [
      "3 2 1 1 0 "
     ]
    }
   ],
   "source": [
    "   # Python 3 Program to print Fibonacci\n",
    "# series in reverse order\n",
    "  \n",
    "def reverseFibonacci(n):\n",
    "   \n",
    "    a = [0] * n \n",
    "  \n",
    "    # assigning first and second elements\n",
    "    a[0] = 0 \n",
    "    a[1] = 1 \n",
    "  \n",
    "    for i in range(2, n):  \n",
    "  \n",
    "        # storing sum in the\n",
    "        # preceding location\n",
    "        a[i] = a[i - 2] + a[i - 1] \n",
    "       \n",
    "  \n",
    "    for i in range(n - 1, -1 , -1):  \n",
    "  \n",
    "        # printing array in\n",
    "        # reverse order\n",
    "        print(a[i],end=\" \") \n",
    "       \n",
    "   \n",
    "  \n",
    "# Driver function\n",
    "n = 5 \n",
    "reverseFibonacci(n)  "
   ]
  },
  {
   "cell_type": "code",
   "execution_count": 1,
   "metadata": {},
   "outputs": [
    {
     "name": "stdout",
     "output_type": "stream",
     "text": [
      "True\n",
      "False\n"
     ]
    }
   ],
   "source": [
    "s1=\" \"\n",
    "s2=\"py th on\"\n",
    "print(s1.isspace())\n",
    "print(s2.isspace())"
   ]
  },
  {
   "cell_type": "code",
   "execution_count": 1,
   "metadata": {},
   "outputs": [
    {
     "name": "stdout",
     "output_type": "stream",
     "text": [
      "False\n",
      "True\n"
     ]
    }
   ],
   "source": [
    "s2 =\"Application1889\"\n",
    "s3 ='PythonProgramming'\n",
    "print(s2.isalpha())\n",
    "print(s3.isalpha())"
   ]
  },
  {
   "cell_type": "code",
   "execution_count": 2,
   "metadata": {},
   "outputs": [
    {
     "name": "stdout",
     "output_type": "stream",
     "text": [
      "True\n",
      "False\n",
      "True\n",
      "False\n"
     ]
    }
   ],
   "source": [
    "s2=\"Python Programming\"\n",
    "s2='Python Programming'\n",
    "print(s2.istitle())\n",
    "print(s3.istitle())\n",
    "s1=\"1234\"\n",
    "s2=\"Application1234\"\n",
    "print(s1.isnumeric())\n",
    "print(s2.isnumeric())"
   ]
  },
  {
   "cell_type": "code",
   "execution_count": 4,
   "metadata": {},
   "outputs": [
    {
     "name": "stdout",
     "output_type": "stream",
     "text": [
      "INPUT = good morning\n",
      "morning\n"
     ]
    }
   ],
   "source": [
    "s=input(\"INPUT = \")\n",
    "for i in range(len(s)):\n",
    "    if ord(s[i])==32:\n",
    "        s1=s[0:i]\n",
    "        s2=s[i+1:]\n",
    "if len(s1)>len(s2):\n",
    "    print(s1)\n",
    "if len(s2)>len(s1):\n",
    "    print(s2)                                         "
   ]
  },
  {
   "cell_type": "code",
   "execution_count": 5,
   "metadata": {},
   "outputs": [
    {
     "name": "stdout",
     "output_type": "stream",
     "text": [
      "w h\n",
      "a i\n",
      "t g\n",
      "e h\n",
      "r e\n",
      "r r\n",
      "r *\n",
      "['1', '2', '3', '3', '5', '2']\n"
     ]
    },
    {
     "data": {
      "text/plain": [
       "6"
      ]
     },
     "execution_count": 5,
     "metadata": {},
     "output_type": "execute_result"
    }
   ],
   "source": [
    "s1=\"waterrr\"\n",
    "s2=\"higher\"\n",
    "if len(s1)>len(s2):\n",
    "    for i in range(len(s1)):\n",
    "            if i<len(s1)-1:\n",
    "                print(s1[i],s2[i])\n",
    "            else:\n",
    "                print(s1[i],\"*\")\n",
    "            \n",
    "elif len(s2)>len(s1):\n",
    "    for i in range(len(s2)):\n",
    "            if i<len(s2)-1:\n",
    "                print(s1[i],s2[i])\n",
    "            else:\n",
    "                print(\"*\",s2[i])\n",
    "def number(n,s):\n",
    "    ns=list(s)\n",
    "    su=0\n",
    "    print(ns)\n",
    "    for i in range(n):\n",
    "        count=ns.count(ns[i])\n",
    "        if count==1:\n",
    "            su=su+int(ns[i])\n",
    "    return su\n",
    "s=\"123352\"\n",
    "number(6,s)"
   ]
  },
  {
   "cell_type": "code",
   "execution_count": 6,
   "metadata": {},
   "outputs": [
    {
     "name": "stdout",
     "output_type": "stream",
     "text": [
      "['1', '2', '3', '3', '5', '2']\n"
     ]
    },
    {
     "data": {
      "text/plain": [
       "6"
      ]
     },
     "execution_count": 6,
     "metadata": {},
     "output_type": "execute_result"
    }
   ],
   "source": [
    "def cotCharOuc(s,c):\n",
    "    return s.count(c)\n",
    "def number(n,s):\n",
    "    ns=list(s)\n",
    "    su=0\n",
    "    print(ns)\n",
    "    for i in range(n):\n",
    "        count=ns.count(ns[i])\n",
    "        if count==1:\n",
    "            su=su+int(ns[i])\n",
    "    return su\n",
    "s=\"123352\"\n",
    "number(6,s)"
   ]
  },
  {
   "cell_type": "markdown",
   "metadata": {},
   "source": [
    "### Standard libraries\n",
    "- File 1/10  <br>\n",
    "-regular expression <br>\n",
    "-detatime <br>\n",
    "-math(numerical and mathematical) <br> \n",
    "    \n",
    "    \n",
    "    "
   ]
  },
  {
   "cell_type": "markdown",
   "metadata": {},
   "source": [
    "### File handling in python\n",
    "* file:-document containing information resides on thepermanent storage.<br>\n",
    "* different types of files:-txt,doc,pdf,csvand etc...<br>\n",
    "* Input--keyboard\n",
    "* output--file\n",
    "\n",
    "### modules of the file I/O\n",
    "* 'w'-this mode is used to file writing\n",
    " - if fileis not present it creates the file and write the data into it."
   ]
  },
  {
   "cell_type": "code",
   "execution_count": 12,
   "metadata": {},
   "outputs": [
    {
     "name": "stdout",
     "output_type": "stream",
     "text": [
      "file is created and data is written\n"
     ]
    }
   ],
   "source": [
    "#function to create a FILE AND WRITE to the file \n",
    "def createfile(filename):\n",
    "    f=open(filename,'w')\n",
    "    for i in range(10):\n",
    "        f.write('this is %d| line '%i)\n",
    "    print(\"file is created and data is written\")\n",
    "    return\n",
    "createfile('file.txt')\n"
   ]
  },
  {
   "cell_type": "code",
   "execution_count": 13,
   "metadata": {},
   "outputs": [
    {
     "name": "stdout",
     "output_type": "stream",
     "text": [
      "inshallah boys played well\n"
     ]
    }
   ],
   "source": [
    "print(\"inshallah boys played well\")"
   ]
  },
  {
   "cell_type": "code",
   "execution_count": 14,
   "metadata": {},
   "outputs": [
    {
     "name": "stdout",
     "output_type": "stream",
     "text": [
      "file is created and data is written\n"
     ]
    }
   ],
   "source": [
    "\n",
    "def appenddata(filename):\n",
    "   f=open(filename,'a')\n",
    "   for i in range(10):\n",
    "       f.write('this is %d line '%i)\n",
    "   print(\"file is created and data is written\")\n",
    "   return\n",
    "createfile('file2.txt')\n",
    "\n"
   ]
  },
  {
   "cell_type": "code",
   "execution_count": 15,
   "metadata": {},
   "outputs": [
    {
     "name": "stdout",
     "output_type": "stream",
     "text": [
      "file is created and data is written\n"
     ]
    }
   ],
   "source": [
    "\n",
    "def appenddata(filename):\n",
    "    f=open(filename,'a')\n",
    "    f.write( \"new line1\\n\")\n",
    "    f.write(\"new line2\\n\")\n",
    "    print(\"file is created and data is written\")\n",
    "    return\n",
    "appenddata('file2.txt')\n",
    "\n"
   ]
  },
  {
   "cell_type": "code",
   "execution_count": 8,
   "metadata": {},
   "outputs": [
    {
     "name": "stdout",
     "output_type": "stream",
     "text": [
      "Enter the file namefile2.txt\n",
      "Enter ther mode of the filer\n",
      "this is 0| line this is 1| line this is 2| line this is 3| line this is 4| line this is 5| line this is 6| line this is 7| line this is 8| line this is 9| line new line1\n",
      "new line2\n",
      "\n"
     ]
    }
   ],
   "source": [
    "# Fuction to read the file\n",
    "def fileOperations(filename,mode):\n",
    "    with open(filename,mode) as f:\n",
    "        if f.mode == 'r':\n",
    "            data = f.read()\n",
    "            print(data)\n",
    "        elif f.mode == 'a':\n",
    "            f.write('Data to the file')\n",
    "            print('The data successfully written')\n",
    "    f.close()\n",
    "    return\n",
    "filename = input('Enter the file name')\n",
    "mode=input('Enter ther mode of the file')\n",
    "fileOperations(filename,mode)\n"
   ]
  },
  {
   "cell_type": "code",
   "execution_count": 7,
   "metadata": {},
   "outputs": [
    {
     "name": "stdout",
     "output_type": "stream",
     "text": [
      "enter the filename:file2.txt\n"
     ]
    },
    {
     "data": {
      "text/plain": [
       "180"
      ]
     },
     "execution_count": 7,
     "metadata": {},
     "output_type": "execute_result"
    }
   ],
   "source": [
    "def charcount(filename):\n",
    "    with open(filename,'r')as f:\n",
    "        if f.mode=='r':\n",
    "            x=f.read()\n",
    "            li=list(x)\n",
    "    return len(li)\n",
    "filename=input('enter the filename:')\n",
    "charcount(filename)"
   ]
  },
  {
   "cell_type": "code",
   "execution_count": 9,
   "metadata": {},
   "outputs": [
    {
     "name": "stdout",
     "output_type": "stream",
     "text": [
      "Enter the filename:file2.txt\n"
     ]
    },
    {
     "data": {
      "text/plain": [
       "3"
      ]
     },
     "execution_count": 9,
     "metadata": {},
     "output_type": "execute_result"
    }
   ],
   "source": [
    "def countoflines(filename):\n",
    "   with open(filename,'r') as f:\n",
    "       if f.mode=='r':\n",
    "           x=f.read()\n",
    "           li=x.split(\"\\n\")\n",
    "   return len(li)\n",
    "filename=input('Enter the filename:')\n",
    "countoflines(filename)\n"
   ]
  },
  {
   "cell_type": "code",
   "execution_count": 13,
   "metadata": {},
   "outputs": [
    {
     "name": "stdout",
     "output_type": "stream",
     "text": [
      "enter filename:file2.txt\n"
     ]
    },
    {
     "data": {
      "text/plain": [
       "'upper case = 0,lower case =114'"
      ]
     },
     "execution_count": 13,
     "metadata": {},
     "output_type": "execute_result"
    }
   ],
   "source": [
    "def casecount(filename):\n",
    "    cntupper=0\n",
    "    cntlower=0\n",
    "    with open(filename,'r') as f:\n",
    "        if f.mode =='r':\n",
    "            x = f.read()\n",
    "            li=list(x)\n",
    "    for i in li:\n",
    "        if i.isupper():\n",
    "            cntupper +=1\n",
    "        elif i.islower():\n",
    "            cntlower +=1\n",
    "    output='upper case = {0},lower case ={1}'.format(cntupper,cntlower)\n",
    "    return output\n",
    "filename =input('enter filename:')\n",
    "casecount(filename)\n",
    "\n"
   ]
  },
  {
   "cell_type": "code",
   "execution_count": 14,
   "metadata": {},
   "outputs": [
    {
     "name": "stdout",
     "output_type": "stream",
     "text": [
      " Volume in drive C has no label.\n",
      " Volume Serial Number is C273-DF48\n",
      "\n",
      " Directory of C:\\Users\\241\n",
      "\n",
      "11-07-2019  12:25    <DIR>          .\n",
      "11-07-2019  12:25    <DIR>          ..\n",
      "08-05-2019  09:41    <DIR>          .anaconda\n",
      "21-03-2017  10:18               145 .appletviewer\n",
      "25-06-2019  15:10               265 .bash_history\n",
      "02-11-2017  15:47                 0 .cdtclient\n",
      "24-06-2019  13:48    <DIR>          .conda\n",
      "24-06-2019  13:48                43 .condarc\n",
      "21-05-2019  11:49                54 .gitconfig\n",
      "29-06-2019  10:56    <DIR>          .idlerc\n",
      "10-07-2019  12:19    <DIR>          .ipynb_checkpoints\n",
      "08-05-2019  12:23    <DIR>          .ipython\n",
      "24-06-2019  10:52    <DIR>          .jupyter\n",
      "28-06-2019  15:35    <DIR>          .matplotlib\n",
      "06-03-2019  11:24    <DIR>          .oracle_jre_usage\n",
      "08-05-2019  12:41             1,244 .python_history\n",
      "22-04-2019  16:35    <DIR>          Anaconda3\n",
      "21-06-2019  22:56             4,705 Arthematic operations and logical Operators.ipynb\n",
      "21-05-2019  12:40               840 binary search.ipynb\n",
      "25-06-2019  17:19             1,724 Case conversion.ipynb\n",
      "25-06-2019  16:45                72 Case conversion'.ipynb\n",
      "08-05-2019  16:04             1,702 checkDivisibility.ipynb\n",
      "22-11-2016  17:30    <DIR>          Contacts\n",
      "27-06-2019  10:46             8,304 Control Statements.ipynb\n",
      "25-06-2019  12:55             5,298 Data structure (25-06-2019)  part 6.ipynb\n",
      "24-06-2019  16:12             4,189 Data structure 1 pm to .ipynb\n",
      "24-06-2019  17:46             7,410 Data structure part 2.ipynb\n",
      "25-06-2019  11:03             3,871 Data structures par 5.ipynb\n",
      "25-06-2019  12:56             5,293 Data structures part 6.ipynb\n",
      "24-06-2019  17:47             7,410 Data structures part2.ipynb\n",
      "25-06-2019  10:59             3,642 Data structures,Binary,Bubble sort,strings.ipynb\n",
      "24-06-2019  14:16             3,632 Data structures.ipynb\n",
      "28-06-2019  15:58            14,741 Day 11(28-06-2019).ipynb\n",
      "28-06-2019  12:59             8,055 Day11(28-06-2019).ipynb\n",
      "06-07-2019  16:12    <DIR>          Desktop\n",
      "22-04-2019  16:35    <DIR>          Documents\n",
      "11-07-2019  11:59    <DIR>          Downloads\n",
      "25-02-2019  14:14    <DIR>          Favorites\n",
      "11-07-2019  10:49               160 file.txt\n",
      "27-06-2019  12:08               181 file1.txt\n",
      "11-07-2019  10:50               182 file2.txt\n",
      "27-06-2019  16:31             9,877 Files Functions(27-06-2019).ipynb\n",
      "22-11-2016  17:30    <DIR>          Links\n",
      "24-06-2019  11:13             5,769 List.ipynb\n",
      "24-06-2019  11:46             5,796 Lists .ipynb\n",
      "22-06-2019  14:07             2,388 loop1.ipynb\n",
      "10-07-2019  12:18             6,460 Loops.ipynb\n",
      "11-07-2019  12:25            18,776 manish python 2.ipynb\n",
      "08-07-2019  15:31             7,514 manish python.ipynb\n",
      "22-11-2016  17:30    <DIR>          Music\n",
      "21-05-2019  12:08    <DIR>          problemslovingprogramming\n",
      "22-11-2016  17:30    <DIR>          Saved Games\n",
      "28-01-2019  11:38    <DIR>          Searches\n",
      "26-06-2019  11:07             8,789 Sting names (26-06-2019).ipynb\n",
      "25-06-2019  14:57             2,328 String Data Structure -6.ipynb\n",
      "26-06-2019  17:08            51,507 String names(26-06-2019).ipynb\n",
      "26-06-2019  10:09             6,317 String names.ipynb\n",
      "25-06-2019  14:54             2,328 Strings.ipynb\n",
      "08-05-2019  12:25             1,158 Untitled.ipynb\n",
      "08-05-2019  15:02             1,030 Untitled1.ipynb\n",
      "27-06-2019  10:46               555 Untitled10.ipynb\n",
      "06-07-2019  09:23               762 Untitled11.ipynb\n",
      "06-07-2019  09:28                72 Untitled12.ipynb\n",
      "06-07-2019  09:38             1,185 Untitled13.ipynb\n",
      "06-07-2019  12:09                72 Untitled14.ipynb\n",
      "08-07-2019  09:10               555 Untitled15.ipynb\n",
      "08-07-2019  09:15               555 Untitled16.ipynb\n",
      "08-07-2019  14:12               555 Untitled17.ipynb\n",
      "08-07-2019  15:25               590 Untitled18.ipynb\n",
      "10-07-2019  12:19                72 Untitled19.ipynb\n",
      "08-05-2019  15:01               555 Untitled2.ipynb\n",
      "11-05-2019  10:43               993 Untitled3.ipynb\n",
      "25-06-2019  15:54               666 Untitled4.ipynb\n",
      "25-06-2019  16:55               555 Untitled5.ipynb\n",
      "26-06-2019  16:40               555 Untitled6.ipynb\n",
      "29-06-2019  09:16               686 Untitled7.ipynb\n",
      "22-06-2019  13:00         1,586,308 Untitled8.ipynb\n",
      "29-06-2019  13:05             2,013 Untitled9.ipynb\n",
      "22-11-2016  17:30    <DIR>          Videos\n",
      "30-04-2010  06:24    <DIR>          workspace\n",
      "              57 File(s)      1,810,503 bytes\n",
      "              23 Dir(s)  74,864,672,768 bytes free\n"
     ]
    }
   ],
   "source": [
    "ls"
   ]
  },
  {
   "cell_type": "markdown",
   "metadata": {},
   "source": [
    " creating multiple directories\n",
    "\n",
    "\n"
   ]
  },
  {
   "cell_type": "code",
   "execution_count": null,
   "metadata": {},
   "outputs": [],
   "source": []
  }
 ],
 "metadata": {
  "kernelspec": {
   "display_name": "Python 3",
   "language": "python",
   "name": "python3"
  },
  "language_info": {
   "codemirror_mode": {
    "name": "ipython",
    "version": 3
   },
   "file_extension": ".py",
   "mimetype": "text/x-python",
   "name": "python",
   "nbconvert_exporter": "python",
   "pygments_lexer": "ipython3",
   "version": "3.7.3"
  }
 },
 "nbformat": 4,
 "nbformat_minor": 2
}
