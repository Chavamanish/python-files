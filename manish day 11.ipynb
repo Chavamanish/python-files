{
 "cells": [
  {
   "cell_type": "markdown",
   "metadata": {},
   "source": [
    "### regular expression\n",
    "* pattern matching\n",
    "* pattern(s)\n",
    "* [0-9]-->any digit matching\n",
    "\n",
    "  >two digit number(^[0-9][2]$)"
   ]
  },
  {
   "cell_type": "code",
   "execution_count": 1,
   "metadata": {},
   "outputs": [
    {
     "name": "stdout",
     "output_type": "stream",
     "text": [
      "True\n",
      "False\n"
     ]
    }
   ],
   "source": [
    "# function to test two digit number matching\n",
    "import re\n",
    "def twodigitmatching(n):\n",
    "    pattern='^[0-9][2]$'\n",
    "    n=str(n)\n",
    "    if re.match(pattern,n):\n",
    "        return True\n",
    "    return False\n",
    "print(twodigitmatching(12))\n",
    "print(twodigitmatching(123))"
   ]
  },
  {
   "cell_type": "code",
   "execution_count": 2,
   "metadata": {},
   "outputs": [
    {
     "name": "stdout",
     "output_type": "stream",
     "text": [
      "True\n",
      "False\n"
     ]
    }
   ],
   "source": [
    "#function to test username having 8 characters\n",
    "#upper case and lower\n",
    "def testUsername(s):\n",
    "    pattern = '^[a-zA-Z]{8}$'\n",
    "    if re.match(pattern,s):\n",
    "        return True\n",
    "    return False\n",
    "print(testUsername(\"GITAMHYD\"))\n",
    "print(testUsername('Gitam188'))"
   ]
  },
  {
   "cell_type": "markdown",
   "metadata": {},
   "source": [
    "### regular expression to match the indian mobile number\n",
    "\n",
    "* 10 digits\n",
    "* (first digit will be [6-9] and remaining 9 digits willl be[0-9]\n",
    "* ex-733754409\n",
    "* re-^[6-9][0-9]{9}$\n",
    "\n",
    "* ex-7032092611'\n",
    "* re-^[6-9][0-9]{9}$\n",
    "\n",
    "* ex-9618050891\n",
    "* re-^[+][1][6-9][0-9]{9}$"
   ]
  },
  {
   "cell_type": "code",
   "execution_count": 3,
   "metadata": {},
   "outputs": [
    {
     "data": {
      "text/plain": [
       "True"
      ]
     },
     "execution_count": 3,
     "metadata": {},
     "output_type": "execute_result"
    }
   ],
   "source": [
    "def phonenumbervalidation(phone):\n",
    "   pattern='^[6-9][0-9]{9}$|^[0][6-9][0-9]{9}$|^[+][9][1][6-9][0-9]{9}$'\n",
    "   phone=str(phone)\n",
    "   if re.match(pattern,phone):\n",
    "       return True\n",
    "   return False\n",
    "phonenumbervalidation('+919876543210')\n"
   ]
  },
  {
   "cell_type": "markdown",
   "metadata": {},
   "source": [
    "### Regular expression to validate a roll number\n",
    "  Ex:- 1521A0501\n",
    "  Ex:- 1521A0109\n",
    "  Ex:- 1521A0499\n",
    "### Regular expression to validate the password\n",
    "  * Parameters: Len min 0f 6 characters and max of 15 characters\n",
    "  * Accept Lowercase,uppercase,digits,spl char(@#!)"
   ]
  },
  {
   "cell_type": "code",
   "execution_count": 5,
   "metadata": {},
   "outputs": [
    {
     "name": "stdout",
     "output_type": "stream",
     "text": [
      "True\n"
     ]
    }
   ],
   "source": [
    "#Function to validate the rollnumber\n",
    "def rollnumbervalidation(roll):\n",
    "   pattern='^[1][5][2][1][A][0][1-5][0-9][1-9]$'\n",
    "   roll=str(roll)\n",
    "   if re.match(pattern,roll):\n",
    "       return True\n",
    "   return False\n",
    "print(rollnumbervalidation('1521A0501'))"
   ]
  },
  {
   "cell_type": "markdown",
   "metadata": {},
   "source": [
    "### Email Id vaalidation using Regular Expression\n",
    "- Example :- Username@DomainName.extention\n",
    "- Username :-\n",
    "       - length will be [6,15]\n",
    "       - no spls characters apart from underscore(_)\n",
    "       - should not begin and ends with underscore(_)\n",
    "       - characters Set : All digits and lower case\n",
    "- Extension:-\n",
    "       - length will be [2,4]\n",
    "       - no spl characters\n",
    "       - character set : lower case charactersdomainname:-\n",
    "     1.length will be[3-18]\n",
    "     2.no spl characters\n",
    "     3.characters set:-all digits are lowercase charcters\n",
    "     domainname:-\n",
    "     1.length will be[3-18]\n",
    "     2.no spl characters\n",
    "     3.characters set:-all digits are lowercase charcters"
   ]
  },
  {
   "cell_type": "markdown",
   "metadata": {},
   "source": []
  },
  {
   "cell_type": "code",
   "execution_count": 11,
   "metadata": {},
   "outputs": [
    {
     "data": {
      "text/plain": [
       "True"
      ]
     },
     "execution_count": 11,
     "metadata": {},
     "output_type": "execute_result"
    }
   ],
   "source": [
    "import re\n",
    "def emailIdvalidation(email):\n",
    "    pattern = '^[0-9a-z][0-9a-z_.]{5,54}[@][a-z0-9]{3,18}[.][a-z]{2,4}$'\n",
    "    if re.match(pattern,email):\n",
    "        return True\n",
    "    return False\n",
    "emailIdvalidation('chavasmanish@gmail.com')"
   ]
  },
  {
   "cell_type": "markdown",
   "metadata": {},
   "source": [
    "    python turtle"
   ]
  },
  {
   "cell_type": "code",
   "execution_count": 12,
   "metadata": {},
   "outputs": [],
   "source": [
    "#Draw square\n",
    "import turtle as tt\n",
    "a1=tt.Turtle()\n",
    "a1.forward(150)\n",
    "a1.right(90)\n",
    "a1.forward(150)\n",
    "a1.right(90)\n",
    "a1.forward(150)\n",
    "a1.right(90)\n",
    "a1.forward(150)\n",
    "a1.right(90)\n",
    "tt.done()"
   ]
  },
  {
   "cell_type": "code",
   "execution_count": null,
   "metadata": {},
   "outputs": [],
   "source": [
    "#Draw square\n",
    "import turtle as tt\n",
    "aa=tt.Turtle()\n",
    "aa.backward(150)\n",
    "aa.left(90)\n",
    "aa.backward(150)\n",
    "aa.left(90)\n",
    "aa.backward(150)\n",
    "aa.left(90)\n",
    "aa.backward(150)\n",
    "aa.left(90)\n",
    "tt.done()"
   ]
  },
  {
   "cell_type": "code",
   "execution_count": null,
   "metadata": {},
   "outputs": [],
   "source": [
    "    import turtle as t \n",
    "a2 = t.Turtle() \n",
    " \n",
    "for i in range(4): \n",
    "   a2.forward(50) \n",
    "   a2.right(90) \n",
    "     \n",
    "t.done()\n"
   ]
  },
  {
   "cell_type": "code",
   "execution_count": 1,
   "metadata": {},
   "outputs": [],
   "source": [
    "#Square spiral help ofTurtle\n",
    "import turtle as t\n",
    "a1=t.Turtle()\n",
    "for i in range(250):\n",
    "   a1.forward(i)\n",
    "   a1.left(91)\n",
    "t.done()"
   ]
  },
  {
   "cell_type": "code",
   "execution_count": 9,
   "metadata": {},
   "outputs": [],
   "source": [
    "from turtle import*\n",
    "color=['blue','green','yellow','orange','purple','red']\n",
    "for x in range(360):\n",
    "    pencolor(color[x%6])\n",
    "    width(x/100+1)\n",
    "    forward(x)\n",
    "    left(59)"
   ]
  },
  {
   "cell_type": "code",
   "execution_count": 13,
   "metadata": {},
   "outputs": [],
   "source": [
    "from turtle import*\n",
    "goto(50,50)\n",
    "goto(-50,50)\n",
    "goto(100,-50)\n",
    "goto(-50,-50)"
   ]
  },
  {
   "cell_type": "code",
   "execution_count": 1,
   "metadata": {},
   "outputs": [],
   "source": [
    "from turtle import * \n",
    "colors = ['red', 'purple', 'blue', 'green', 'orange', 'yellow'] \n",
    "for angle in range(0,360,15):\n",
    "   pencolor(colors[angle%6])\n",
    "   setheading(angle)\n",
    "   forward(100)\n",
    "   write(str(angle)+ 'o')\n",
    "   backward(100)"
   ]
  },
  {
   "cell_type": "code",
   "execution_count": 3,
   "metadata": {},
   "outputs": [],
   "source": [
    "from turtle import *\n",
    "pencolor('blue')\n",
    "for i in range(15):\n",
    "   forward(100)\n",
    "   left(90)\n",
    "   forward(10)\n",
    "   left(90)\n",
    "   forward(100)\n",
    "   right(90)\n",
    "   forward(10)\n",
    "   right(90)\n",
    "pencolor('red')\n",
    "for i in range(90):\n",
    "   undo()"
   ]
  },
  {
   "cell_type": "code",
   "execution_count": 1,
   "metadata": {},
   "outputs": [],
   "source": [
    "from turtle import *\n",
    "pensize(40)\n",
    "pencolor(\"black\")\n",
    "forward(250)\n",
    "pen(\"0,1.0,0\")\n",
    "forward(250)\n",
    "pensize(10)\n",
    "goto(-400,50)\n",
    "\n",
    "for red in range(4):\n",
    "   for green in range(4):\n",
    "       for blue in range(4):\n",
    "           pencolor(red/4.0,green/4.0,blue/4.0)\n",
    "           forward(10)\n"
   ]
  },
  {
   "cell_type": "code",
   "execution_count": 2,
   "metadata": {},
   "outputs": [],
   "source": [
    "import turtle\n",
    " \n",
    "t = turtle.Turtle()\n",
    "t.forward(150) \n",
    "t.left(90) \n",
    "t.forward(80) \n",
    "t.left(90) \n",
    "t.forward(150)\n",
    "t.left(90) \n",
    "t.forward(80) \n",
    "t.left(90)\n"
   ]
  },
  {
   "cell_type": "code",
   "execution_count": null,
   "metadata": {},
   "outputs": [],
   "source": []
  }
 ],
 "metadata": {
  "kernelspec": {
   "display_name": "Python 3",
   "language": "python",
   "name": "python3"
  },
  "language_info": {
   "codemirror_mode": {
    "name": "ipython",
    "version": 3
   },
   "file_extension": ".py",
   "mimetype": "text/x-python",
   "name": "python",
   "nbconvert_exporter": "python",
   "pygments_lexer": "ipython3",
   "version": "3.7.3"
  }
 },
 "nbformat": 4,
 "nbformat_minor": 2
}
